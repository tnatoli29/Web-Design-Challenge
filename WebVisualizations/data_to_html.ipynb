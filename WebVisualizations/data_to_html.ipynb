{
 "cells": [
  {
   "cell_type": "code",
   "execution_count": 1,
   "metadata": {},
   "outputs": [],
   "source": [
    "#Import dependencies\n",
    "import pandas as pd"
   ]
  },
  {
   "cell_type": "code",
   "execution_count": 2,
   "metadata": {},
   "outputs": [],
   "source": [
    "#Turn the data into a variable\n",
    "weather = pd.read_csv(\"Resources/my_weather_df.csv\")"
   ]
  },
  {
   "cell_type": "code",
   "execution_count": 3,
   "metadata": {},
   "outputs": [
    {
     "data": {
      "text/html": [
       "<div>\n",
       "<style scoped>\n",
       "    .dataframe tbody tr th:only-of-type {\n",
       "        vertical-align: middle;\n",
       "    }\n",
       "\n",
       "    .dataframe tbody tr th {\n",
       "        vertical-align: top;\n",
       "    }\n",
       "\n",
       "    .dataframe thead th {\n",
       "        text-align: right;\n",
       "    }\n",
       "</style>\n",
       "<table border=\"1\" class=\"dataframe\">\n",
       "  <thead>\n",
       "    <tr style=\"text-align: right;\">\n",
       "      <th></th>\n",
       "      <th>Unnamed: 0</th>\n",
       "      <th>City</th>\n",
       "      <th>Lat</th>\n",
       "      <th>Lng</th>\n",
       "      <th>Max Temp</th>\n",
       "      <th>Humidity</th>\n",
       "      <th>Cloudiness</th>\n",
       "      <th>Wind Speed</th>\n",
       "      <th>Country</th>\n",
       "      <th>Date</th>\n",
       "    </tr>\n",
       "  </thead>\n",
       "  <tbody>\n",
       "    <tr>\n",
       "      <th>0</th>\n",
       "      <td>0</td>\n",
       "      <td>Castro</td>\n",
       "      <td>-24.7911</td>\n",
       "      <td>-50.0119</td>\n",
       "      <td>84.99</td>\n",
       "      <td>31</td>\n",
       "      <td>0</td>\n",
       "      <td>8.50</td>\n",
       "      <td>BR</td>\n",
       "      <td>1600020000</td>\n",
       "    </tr>\n",
       "    <tr>\n",
       "      <th>1</th>\n",
       "      <td>1</td>\n",
       "      <td>Ondjiva</td>\n",
       "      <td>-17.0667</td>\n",
       "      <td>15.7333</td>\n",
       "      <td>83.48</td>\n",
       "      <td>14</td>\n",
       "      <td>3</td>\n",
       "      <td>6.38</td>\n",
       "      <td>AO</td>\n",
       "      <td>1600020000</td>\n",
       "    </tr>\n",
       "    <tr>\n",
       "      <th>2</th>\n",
       "      <td>2</td>\n",
       "      <td>Bosaso</td>\n",
       "      <td>11.2842</td>\n",
       "      <td>49.1816</td>\n",
       "      <td>90.07</td>\n",
       "      <td>60</td>\n",
       "      <td>3</td>\n",
       "      <td>3.40</td>\n",
       "      <td>SO</td>\n",
       "      <td>1600020000</td>\n",
       "    </tr>\n",
       "    <tr>\n",
       "      <th>3</th>\n",
       "      <td>3</td>\n",
       "      <td>Hermanus</td>\n",
       "      <td>-34.4187</td>\n",
       "      <td>19.2345</td>\n",
       "      <td>56.23</td>\n",
       "      <td>73</td>\n",
       "      <td>64</td>\n",
       "      <td>29.24</td>\n",
       "      <td>ZA</td>\n",
       "      <td>1600020000</td>\n",
       "    </tr>\n",
       "    <tr>\n",
       "      <th>4</th>\n",
       "      <td>4</td>\n",
       "      <td>Olinda</td>\n",
       "      <td>-8.0089</td>\n",
       "      <td>-34.8553</td>\n",
       "      <td>82.04</td>\n",
       "      <td>60</td>\n",
       "      <td>37</td>\n",
       "      <td>14.52</td>\n",
       "      <td>BR</td>\n",
       "      <td>1600020000</td>\n",
       "    </tr>\n",
       "  </tbody>\n",
       "</table>\n",
       "</div>"
      ],
      "text/plain": [
       "   Unnamed: 0      City      Lat      Lng  Max Temp  Humidity  Cloudiness  \\\n",
       "0           0    Castro -24.7911 -50.0119     84.99        31           0   \n",
       "1           1   Ondjiva -17.0667  15.7333     83.48        14           3   \n",
       "2           2    Bosaso  11.2842  49.1816     90.07        60           3   \n",
       "3           3  Hermanus -34.4187  19.2345     56.23        73          64   \n",
       "4           4    Olinda  -8.0089 -34.8553     82.04        60          37   \n",
       "\n",
       "   Wind Speed Country        Date  \n",
       "0        8.50      BR  1600020000  \n",
       "1        6.38      AO  1600020000  \n",
       "2        3.40      SO  1600020000  \n",
       "3       29.24      ZA  1600020000  \n",
       "4       14.52      BR  1600020000  "
      ]
     },
     "execution_count": 3,
     "metadata": {},
     "output_type": "execute_result"
    }
   ],
   "source": [
    "#Print data to make sure the code works properly \n",
    "weather.head()"
   ]
  },
  {
   "cell_type": "code",
   "execution_count": 4,
   "metadata": {},
   "outputs": [],
   "source": [
    "#Convert data from csv to html\n",
    "weather.to_html(\"weather.html\")"
   ]
  },
  {
   "cell_type": "code",
   "execution_count": null,
   "metadata": {},
   "outputs": [],
   "source": []
  }
 ],
 "metadata": {
  "kernelspec": {
   "display_name": "Python 3",
   "language": "python",
   "name": "python3"
  },
  "language_info": {
   "codemirror_mode": {
    "name": "ipython",
    "version": 3
   },
   "file_extension": ".py",
   "mimetype": "text/x-python",
   "name": "python",
   "nbconvert_exporter": "python",
   "pygments_lexer": "ipython3",
   "version": "3.7.6"
  }
 },
 "nbformat": 4,
 "nbformat_minor": 4
}
